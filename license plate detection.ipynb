{
 "cells": [
  {
   "cell_type": "code",
   "execution_count": 20,
   "metadata": {},
   "outputs": [
    {
     "name": "stdout",
     "output_type": "stream",
     "text": [
      "detected no. is: 2376 S7\n",
      "\n",
      "\n"
     ]
    }
   ],
   "source": [
    "#import necessary libraries.\n",
    "import cv2\n",
    "import numpy as np\n",
    "import imutils\n",
    "import pytesseract\n",
    "\n",
    "pytesseract.pytesseract.tesseract_cmd = r'C://Program Files (x86)//Tesseract-OCR//tesseract.exe'\n",
    "\n",
    "#read the image & resize it.\n",
    "img1 = cv2.imread(\"C://Users//user//Desktop//image//carimg3.jpg\",cv2.IMREAD_COLOR)\n",
    "img1 = cv2.resize(img1,(620,480))\n",
    "\n",
    "#convert the image into grayscale.\n",
    "gray = cv2.cvtColor(img1,cv2.COLOR_BGR2GRAY)\n",
    "\n",
    "#Apply bilateral filter and canny edge detection.\n",
    "gray = cv2.bilateralFilter(gray,13,15,15)\n",
    "edged = cv2.Canny(gray,30,200)\n",
    "\n",
    "#find contours  use a copy of the image since findContours can alters the image. \n",
    "#cv2.CHAIN_APPROX_SIMPLE is used to store only the boundary points of the contours.\n",
    "contours = cv2.findContours(edged.copy(),cv2.RETR_TREE,cv2.CHAIN_APPROX_SIMPLE) \n",
    "contours = imutils.grab_contours(contours)\n",
    "\n",
    "#sort the contours from big to small.\n",
    "contours = sorted(contours, key = cv2.contourArea,reverse = True)[:10]\n",
    "screenCnt = None\n",
    "\n",
    "#loop through the contours and find contours with four sides and closed figure.\n",
    "for c in contours:\n",
    "    peri = cv2.arcLength(c,True)\n",
    "    approx = cv2.approxPolyDP(c,0.018*peri,True)\n",
    "    #if approximated contours have four points means then we have found our screen.\n",
    "    if len(approx) == 4:\n",
    "        screenCnt = approx\n",
    "        break\n",
    "\n",
    "#if there is no contours are detected then print the result.\n",
    "if screenCnt is None:\n",
    "    detected = 0\n",
    "    print(\"no contours detected\")\n",
    "else:\n",
    "    detected = 1\n",
    "\n",
    "    #draw over the detected contour.\n",
    "if detected == 1:\n",
    "    image = cv2.drawContours(img1,[screenCnt],-1,(0,255,0),3)\n",
    "    \n",
    "#mask the rest of the contours since they are useless.\n",
    "mask = np.zeros(gray.shape,np.uint8)\n",
    "newimage = cv2.drawContours(mask,[screenCnt],0,255,-1)\n",
    "newimage = cv2.bitwise_and(img1,img1,mask=mask)\n",
    "cv2.imshow(\"maskedimg\",newimage)\n",
    "\n",
    "#cropping segment.\n",
    "(x,y) = np.where(mask == 255)\n",
    "(topx,topy) = (np.min(x),np.min(y))\n",
    "(bottomx,bottomy) = (np.max(x),np.max(y))\n",
    "cropped = gray[topx:bottomx+1 , topy:bottomy+1]\n",
    "\n",
    "#read the number plate.\n",
    "text = pytesseract.image_to_string(cropped,config='--psm11')\n",
    "print(\"detected no. is:\",text)\n",
    "\n",
    "#resize the resulted image.\n",
    "img1 =cv2.resize(img1,(500,300))\n",
    "cropped = cv2.resize(cropped,(400,200))\n",
    "\n",
    "#display the result.\n",
    "cv2.imshow(\"car\",img1)\n",
    "cv2.imshow(\"cropped\",cropped)\n",
    "\n",
    "cv2.waitKey(0)\n",
    "cv2.destroyAllWindows()"
   ]
  },
  {
   "cell_type": "code",
   "execution_count": null,
   "metadata": {},
   "outputs": [],
   "source": []
  }
 ],
 "metadata": {
  "kernelspec": {
   "display_name": "Python 3",
   "language": "python",
   "name": "python3"
  },
  "language_info": {
   "codemirror_mode": {
    "name": "ipython",
    "version": 3
   },
   "file_extension": ".py",
   "mimetype": "text/x-python",
   "name": "python",
   "nbconvert_exporter": "python",
   "pygments_lexer": "ipython3",
   "version": "3.7.6"
  }
 },
 "nbformat": 4,
 "nbformat_minor": 4
}
